{
 "cells": [
  {
   "cell_type": "code",
   "execution_count": null,
   "id": "c6e1d6d2",
   "metadata": {},
   "outputs": [],
   "source": [
    "## init python env\n",
    "!conda init --all\n",
    "!conda create --name livekit-agent python=3.13.3 --yes\n",
    "!conda deactivate\n",
    "!conda activate livekit-agent\n",
    "!conda env list\n",
    "!conda remove --name livekit-agent --all --yes"
   ]
  },
  {
   "cell_type": "code",
   "execution_count": null,
   "id": "5372d07b",
   "metadata": {},
   "outputs": [],
   "source": [
    "## 安装环境\n",
    "# 将uv.lock中的版本安装到当前环境中(当前目录的.venv目录下)\n",
    "!uv sync \n",
    "!uv run python src/agent.py download-files\n",
    "\n",
    "# 直接在终端中与代理对话\n",
    "!uv run python src/agent.py console\n",
    "\n",
    "# 要运行用于前端或电话的代理，请使用以下dev命令\n",
    "!uv run python src/agent.py dev\n",
    "\n",
    "# 在生产中，使用以下start命令：\n",
    "!uv run python src/agent.py start\n",
    "\n",
    "# 运行测试\n",
    "!uv run pytest"
   ]
  },
  {
   "cell_type": "code",
   "execution_count": null,
   "id": "dca989c1",
   "metadata": {},
   "outputs": [],
   "source": [
    "## 提交代码\n",
    "!git remote set-url origin https://github.com/efengx/agent-starter-python.git\n",
    "!git push --force origin main"
   ]
  }
 ],
 "metadata": {
  "kernelspec": {
   "display_name": "agent-starter-python",
   "language": "python",
   "name": "python3"
  },
  "language_info": {
   "name": "python",
   "version": "3.13.2"
  }
 },
 "nbformat": 4,
 "nbformat_minor": 5
}
